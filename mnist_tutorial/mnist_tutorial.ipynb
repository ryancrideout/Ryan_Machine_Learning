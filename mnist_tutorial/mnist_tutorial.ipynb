{
 "cells": [
  {
   "cell_type": "markdown",
   "id": "29ae14f4-29c8-4c71-80c4-01a0411faae5",
   "metadata": {},
   "source": [
    "# MNIST Tutorial\n",
    "Here be the MNIST Tutorial! For now we'll just load up the data and maybe look at it.\n",
    "\n",
    "For now, we're looking at this [link, which is how to load up minst datasets in Python.](https://www.digitalocean.com/community/tutorials/mnist-dataset-in-python) Note that we reference this [more in-depth tutorial](https://machinelearningmastery.com/how-to-develop-a-convolutional-neural-network-from-scratch-for-mnist-handwritten-digit-classification/) later on.\n",
    "\n",
    "Overall, the steps for machine learning are as follows:\n",
    "- Load the Data\n",
    "- Prepare & Normalize the Data\n",
    "- Defining a Neural Network Model\n",
    "- Evaluating the Model on how successful it was\n",
    "- Present Results"
   ]
  },
  {
   "cell_type": "markdown",
   "id": "8bd0a7b9-cd76-4c14-a950-05f2d4f18b25",
   "metadata": {
    "jp-MarkdownHeadingCollapsed": true,
    "tags": []
   },
   "source": [
    "### Loading the Data"
   ]
  },
  {
   "cell_type": "code",
   "execution_count": 7,
   "id": "a47eeca9-4e66-48f6-b9bc-b1627c1f738a",
   "metadata": {},
   "outputs": [
    {
     "name": "stdout",
     "output_type": "stream",
     "text": [
      "X_train: (60000, 28, 28)\n",
      "Y_train: (60000,)\n",
      "X_test:  (10000, 28, 28)\n",
      "Y_test:  (10000,)\n"
     ]
    }
   ],
   "source": [
    "from tensorflow.keras.datasets import mnist\n",
    "\n",
    "# LOAD THE DATA?!\n",
    "(train_X, train_y), (test_X, test_y) = mnist.load_data()\n",
    "\n",
    "print('X_train: ' + str(train_X.shape))\n",
    "print('Y_train: ' + str(train_y.shape))\n",
    "print('X_test:  '  + str(test_X.shape))\n",
    "print('Y_test:  '  + str(test_y.shape))"
   ]
  },
  {
   "cell_type": "markdown",
   "id": "df228be7-80ab-4707-8362-e3ab0515ed6f",
   "metadata": {},
   "source": [
    "And now, to actually do tutorial related stuff with it. I found a more [in-depth tutorial here](https://machinelearningmastery.com/how-to-develop-a-convolutional-neural-network-from-scratch-for-mnist-handwritten-digit-classification/) that I'll be using.\n",
    "\n",
    "For starters though, this is plotting the first nine elements of the data so we can see what it looks like."
   ]
  },
  {
   "cell_type": "code",
   "execution_count": 2,
   "id": "088700e4-0676-4945-9bc1-737d47489e12",
   "metadata": {},
   "outputs": [
    {
     "data": {
      "image/png": "[encoded data removed]",
      "text/plain": [
       "<Figure size 640x480 with 9 Axes>"
      ]
     },
     "metadata": {},
     "output_type": "display_data"
    }
   ],
   "source": [
    "from tensorflow.keras.datasets import mnist\n",
    "from matplotlib import pyplot as plt\n",
    "\n",
    "(train_X, train_y), (test_X, test_y) = mnist.load_data()\n",
    "for i in range(9):\n",
    "    # define subplot\n",
    "    plt.subplot(330 + 1 + i)\n",
    "    # plot raw pixel data\n",
    "    plt.imshow(train_X[i], cmap=plt.get_cmap('gray'))\n",
    "    \n",
    "# show the figure\n",
    "plt.show()"
   ]
  },
  {
   "cell_type": "markdown",
   "id": "b36a4736-efe9-4b2e-86d5-7f4126cd985b",
   "metadata": {
    "jp-MarkdownHeadingCollapsed": true,
    "tags": []
   },
   "source": [
    "### Helper Functions (Loading & Normalizing Data)"
   ]
  },
  {
   "cell_type": "markdown",
   "id": "5be47f75-8253-4e57-8194-5b5328776603",
   "metadata": {},
   "source": [
    "Now that we've looked at the data a bit, we come to the first step in our machine learning analysis - developing/creating a baseline model. From what I understand, this means developing the infastructure for the test harness so that any machine learning model designed can be evaluated on the dataset, and it establishes a baseline for model performance on the problem/dataset.\n",
    "\n",
    "Anyways, the first step is to **load the dataset** and munge it slightly so that we can work with it. "
   ]
  },
  {
   "cell_type": "code",
   "execution_count": null,
   "id": "f70f0644-d41d-4556-bf0e-a34be9cc47ee",
   "metadata": {},
   "outputs": [],
   "source": [
    "from tensorflow.keras.datasets import mnist\n",
    "from tensorflow.keras.utils import to_categorical\n",
    "\n",
    "# load train and test dataset\n",
    "def load_dataset():\n",
    "    (train_X, train_y), (test_X, test_y) = mnist.load_data()\n",
    "\n",
    "    # Reshape dataset to have a single color channel\n",
    "    train_X = train_X.reshape((trainX.shape[0], 28, 28, 1))\n",
    "    test_X = test_X.reshape((testX.shape[0], 28, 28, 1))\n",
    "\n",
    "    # This is a way to categorize the data - these are the \"answers\" so to speak, so we want to keep track of them.\n",
    "    train_Y = to_categorical(train_Y)\n",
    "    test_Y = to_categorical(test_Y)\n",
    "    \n",
    "    return train_X, train_y, test_X, test_Y"
   ]
  },
  {
   "cell_type": "markdown",
   "id": "75d77ab3-49c4-461b-a545-8cb3e76ebf96",
   "metadata": {},
   "source": [
    "Next up, we need to **prepare the pixel data**. Basically, the pixels that make up the images are unsigned integers in the range between black and white, or 0 and 255. Basically, we want to normalize the data so that it's **between** 0 and 1. _Not_ 0 or 1 - _between_ 0 and 1.\n",
    "\n",
    "So as such, writing a function to normalize them is a good next step:"
   ]
  },
  {
   "cell_type": "code",
   "execution_count": null,
   "id": "e3af8cd5-4ea9-493f-8449-f72aa5e48011",
   "metadata": {},
   "outputs": [],
   "source": [
    "# Normalize Pixel Values\n",
    "def prep_pixels(train, test):\n",
    "    # convert from Integers to Floats\n",
    "    train_normalized = train.astype('float32')\n",
    "    test_normalized = test.astype('float32')\n",
    "    \n",
    "    # Normalize to range [0, 1]\n",
    "    train_normalized = train_normalized / 255.0\n",
    "    test_normalized = test_normalized / 255.0\n",
    "    \n",
    "    # return normalized images\n",
    "    return train_normalized, test_normalized"
   ]
  },
  {
   "cell_type": "markdown",
   "id": "c9c7ce5d-9e8e-48f9-bbd4-426c2465fd9f",
   "metadata": {
    "tags": []
   },
   "source": [
    "### Defining a Neural Network Model"
   ]
  },
  {
   "cell_type": "markdown",
   "id": "e4102b22-0a48-4169-a717-63c49bbecffa",
   "metadata": {},
   "source": [
    "For the next step, we need to define a \"baseline convolutional neural network model\" for the task at hand.\n",
    "\n",
    "Very quickly as an aside, here are the tutorials for\n",
    "- [Convolutional Layers and how they relate to Deep Learning Neural Networks](https://machinelearningmastery.com/convolutional-layers-for-deep-learning-neural-networks/)\n",
    "- [An introduction to Pooling Layers for Convolutional Neural Networks](https://machinelearningmastery.com/pooling-layers-for-convolutional-neural-networks/)\n",
    "\n",
    "Note that I'll need to write up separate pages for these later, but at a glance it seems like Convolutional and Pooling layers are used to identify the pixels and give them weights. So because we've normalized them so they're between 0 and 1, the layers are used to identify which of those pixels are ink and which are empty space... at least that's how I understand it. Will have to do more reading.\n",
    "\n",
    "Moreover, when we define the model there are some other relevant terms we should be aware of:\n",
    "- [Rectified Linear Activation Function (ReLU)](https://machinelearningmastery.com/rectified-linear-activation-function-for-deep-learning-neural-networks/)\n",
    "- [Learning Rate](https://machinelearningmastery.com/understand-the-dynamics-of-learning-rate-on-deep-learning-neural-networks/)\n",
    "- [Cross Entropy for Machine Learning](https://machinelearningmastery.com/cross-entropy-for-machine-learning/)\n",
    "\n",
    "Anyways,\n",
    "\n",
    "Here is how we define our model:"
   ]
  },
  {
   "cell_type": "code",
   "execution_count": null,
   "id": "5d8b4dc0-02d3-4a36-97f2-c72c09534e22",
   "metadata": {},
   "outputs": [],
   "source": [
    "from tensorflow.keras.models import Sequential\n",
    "from tensorflow.keras.layers import Conv2D, MaxPooling2D, Flatten, Dense\n",
    "from tensorflow.keras.optimizers import SGD\n",
    "\n",
    "# Define our CNN Model\n",
    "def define_model():\n",
    "    model = Sequential()\n",
    "    model.add(Conv2D(32, (3, 3), activation='relu', kernel_initializer='he_uniform', input_shape=(28, 28, 1)))\n",
    "    model.add(MaxPooling2D((2, 2)))\n",
    "    model.add(Flatten())\n",
    "    model.add(Dense(100, activation='relu', kernel_initializer='he_uniform'))\n",
    "    model.add(Dense(10, activation='softmax'))\n",
    "    \n",
    "    # compile model\n",
    "    opt = SGD(learning_rate=0.01, momentum=0.9)\n",
    "    model.compile(optimizer=opt, loss='categorical_crossentropy', metrics=['accuracy'])\n",
    "    \n",
    "    return model"
   ]
  },
  {
   "cell_type": "markdown",
   "id": "e3eefa79-6e28-43d6-84d6-3f55450b11eb",
   "metadata": {
    "jp-MarkdownHeadingCollapsed": true,
    "tags": []
   },
   "source": [
    "### Evaluating our Neural Network Model\n",
    "\n",
    "Once we've defined our Neural Network Model, we need to go ahead and evaluate it to determine how accurate it is. This model is evaluated using [five-fold cross-validation.](https://machinelearningmastery.com/k-fold-cross-validation/)\n",
    "\n",
    "Note there are some other details on the tutorial website, but I've elected to not include them in the interest of keeping this tutorial light. Anyways, here is how we evaluate the model:"
   ]
  },
  {
   "cell_type": "code",
   "execution_count": 2,
   "id": "e392e930-33ce-4be7-b485-68d638d9ec49",
   "metadata": {},
   "outputs": [],
   "source": [
    "from sklearn.model_selection import KFold\n",
    "\n",
    "# Evaluate a Model using K-Fold Cross-Validation\n",
    "def evaluate_model(data_X, data_Y, n_folds=5):\n",
    "    scores, histories = list(), list()\n",
    "    \n",
    "    # prepare cross validation\n",
    "    kfold = KFold(n_folds, shuffle=True, random_state=1)\n",
    "    \n",
    "    # enumerate splits\n",
    "    for train_ix, test_ix in kfold.split(data_X):\n",
    "        # Define the Model\n",
    "        model = define_model()\n",
    "        \n",
    "        # select rows for train and test\n",
    "        train_X, train_Y, test_X, test_Y = data_X[train_ix], data_Y[train_ix], data_X[test_ix], data_Y[test_ix]\n",
    "        \n",
    "        # fit model\n",
    "        history = model.fit(train_X, train_Y, epochs=10, batch_size=32, validation_data=(test_X, test_Y), verbose=0)\n",
    "        \n",
    "        # evaluate model\n",
    "        _, accuracy = model.evaluate(testX, testY, verbose=0)\n",
    "        print('> %.3f' % (accuracy * 100.0))\n",
    "        \n",
    "        # stores scores\n",
    "        scores.append(acc)\n",
    "        histories.append(history)\n",
    "        \n",
    "    return scores, histories"
   ]
  },
  {
   "cell_type": "markdown",
   "id": "4667691a-94eb-4f70-934e-95e21ca4da2f",
   "metadata": {
    "jp-MarkdownHeadingCollapsed": true,
    "tags": []
   },
   "source": [
    "### Present Results (I.E., Plotting the Data)\n",
    "\n",
    "Once we've evaluated our model and we're happy with it's accuracy, we can go ahead and plot the results. There are two things that we can \"present\" - 1) The diagnostics of learning behaviour of the model during training, and 2) the estimation of the model's performance.\n",
    "\n",
    "Plotting the diagnostics of the model's learning behaviour is useful in determining if a model is overfitting, underfitting or has a good fit for the dataset. Plotting the model's accuracy scores is as straightforward as it sounds.\n",
    "\n",
    "Here is the code:"
   ]
  },
  {
   "cell_type": "code",
   "execution_count": 3,
   "id": "2b96c2a7-27f5-4154-bf6b-b7bb9708a1e6",
   "metadata": {},
   "outputs": [],
   "source": [
    "from numpy import mean\n",
    "from numpy import std\n",
    "from matplotlib import pyplot as plt\n",
    "\n",
    "# Plot Diagnostic Learning Curves\n",
    "def summarize_diagnostics(histories):\n",
    "    for i in range(len(histories)):\n",
    "        # plot loss\n",
    "        plt.subplot(2, 1, 1)\n",
    "        plt.title('Cross Entropy Loss')\n",
    "        plt.plot(histories[i].history['loss'], color='blue', label='train')\n",
    "        plt.plot(histories[i].history['val_loss'], color='orange', label='test')\n",
    "        \n",
    "        # plot accuracy\n",
    "        plt.subplot(2, 1, 2)\n",
    "        plt.title('Classification Accuracy')\n",
    "        plt.plot(histories[i].history['accuracy'], color='blue', label='train')\n",
    "        plt.plot(histories[i].history['val_accuracy'], color='orange', label='test')\n",
    "        \n",
    "    plt.show()\n",
    "    \n",
    "# Summarize Model Performance\n",
    "def summarize_performance(scores):\n",
    "    # Print ze summary\n",
    "    print('Accuracy: mean=%.3f std=%.3f, n=%d' % (mean(scores)*100, std(scores)*100, len(scores)))\n",
    "    # Box and Whisker Plots of Results\n",
    "    plt.boxplot(scores)\n",
    "    plt.show()"
   ]
  },
  {
   "cell_type": "markdown",
   "id": "6526d00f-1e5c-442b-9897-dad36b198278",
   "metadata": {
    "tags": []
   },
   "source": [
    "### Complete Example (Bringing it all together)"
   ]
  },
  {
   "cell_type": "markdown",
   "id": "b8ac2893-6836-481e-8260-998f1aca2c87",
   "metadata": {},
   "source": [
    "Now we need a function that will go ahead and drive the test harness (`run_test_harness`), but now we take all of the functions we defined before and put them all together:"
   ]
  },
  {
   "cell_type": "code",
   "execution_count": 4,
   "id": "a6c7498a-701a-42b4-baf7-3b51031d60e4",
   "metadata": {},
   "outputs": [
    {
     "name": "stdout",
     "output_type": "stream",
     "text": [
      "> 98.442\n",
      "> 98.450\n",
      "> 98.617\n",
      "> 98.867\n",
      "> 98.725\n"
     ]
    },
    {
     "data": {
      "image/png": "[encoded data removed]",
      "text/plain": [
       "<Figure size 640x480 with 2 Axes>"
      ]
     },
     "metadata": {},
     "output_type": "display_data"
    },
    {
     "name": "stdout",
     "output_type": "stream",
     "text": [
      "Accuracy: mean=98.620 std=0.163, n=5\n"
     ]
    },
    {
     "data": {
      "image/png": "[encoded data removed]",
      "text/plain": [
       "<Figure size 640x480 with 1 Axes>"
      ]
     },
     "metadata": {},
     "output_type": "display_data"
    }
   ],
   "source": [
    "# Baseline CNN Model for MNIST\n",
    "from numpy import mean\n",
    "from numpy import std\n",
    "from matplotlib import pyplot as plt\n",
    "from sklearn.model_selection import KFold\n",
    "from tensorflow.keras.datasets import mnist\n",
    "from tensorflow.keras.utils import to_categorical\n",
    "from tensorflow.keras.models import Sequential\n",
    "from tensorflow.keras.layers import Conv2D\n",
    "from tensorflow.keras.layers import MaxPooling2D\n",
    "from tensorflow.keras.layers import Dense\n",
    "from tensorflow.keras.layers import Flatten\n",
    "from tensorflow.keras.optimizers import SGD\n",
    " \n",
    "# load train and test dataset\n",
    "def load_dataset():\n",
    "    (train_X, train_y), (test_X, test_y) = mnist.load_data()\n",
    "\n",
    "    # Reshape dataset to have a single color channel\n",
    "    train_X = train_X.reshape((trainX.shape[0], 28, 28, 1))\n",
    "    test_X = test_X.reshape((testX.shape[0], 28, 28, 1))\n",
    "\n",
    "    # This is a way to categorize the data - these are the \"answers\" so to speak, so we want to keep track of them.\n",
    "    train_Y = to_categorical(train_Y)\n",
    "    test_Y = to_categorical(test_Y)\n",
    "    \n",
    "    return train_X, train_y, test_X, test_Y\n",
    " \n",
    "# Normalize Pixel Values\n",
    "def prep_pixels(train, test):\n",
    "    # convert from Integers to Floats\n",
    "    train_normalized = train.astype('float32')\n",
    "    test_normalized = test.astype('float32')\n",
    "    \n",
    "    # Normalize to range [0, 1]\n",
    "    train_normalized = train_normalized / 255.0\n",
    "    test_normalized = test_normalized / 255.0\n",
    "    \n",
    "    # return normalized images\n",
    "    return train_normalized, test_normalized\n",
    " \n",
    "# Define our CNN Model\n",
    "def define_model():\n",
    "    model = Sequential()\n",
    "    model.add(Conv2D(32, (3, 3), activation='relu', kernel_initializer='he_uniform', input_shape=(28, 28, 1)))\n",
    "    model.add(MaxPooling2D((2, 2)))\n",
    "    model.add(Flatten())\n",
    "    model.add(Dense(100, activation='relu', kernel_initializer='he_uniform'))\n",
    "    model.add(Dense(10, activation='softmax'))\n",
    "    \n",
    "    # compile model\n",
    "    opt = SGD(learning_rate=0.01, momentum=0.9)\n",
    "    model.compile(optimizer=opt, loss='categorical_crossentropy', metrics=['accuracy'])\n",
    "    \n",
    "    return model\n",
    " \n",
    "# Evaluate a Model using K-Fold Cross-Validation\n",
    "def evaluate_model(data_X, data_Y, n_folds=5):\n",
    "    scores, histories = list(), list()\n",
    "    \n",
    "    # prepare cross validation\n",
    "    kfold = KFold(n_folds, shuffle=True, random_state=1)\n",
    "    \n",
    "    # enumerate splits\n",
    "    for train_ix, test_ix in kfold.split(data_X):\n",
    "        # Define the Model\n",
    "        model = define_model()\n",
    "        \n",
    "        # select rows for train and test\n",
    "        train_X, train_Y, test_X, test_Y = data_X[train_ix], data_Y[train_ix], data_X[test_ix], data_Y[test_ix]\n",
    "        \n",
    "        # fit model\n",
    "        history = model.fit(train_X, train_Y, epochs=10, batch_size=32, validation_data=(test_X, test_Y), verbose=0)\n",
    "        \n",
    "        # evaluate model\n",
    "        _, accuracy = model.evaluate(testX, testY, verbose=0)\n",
    "        print('> %.3f' % (accuracy * 100.0))\n",
    "        \n",
    "        # stores scores\n",
    "        scores.append(acc)\n",
    "        histories.append(history)\n",
    "        \n",
    "    return scores, histories\n",
    " \n",
    "# Plot Diagnostic Learning Curves\n",
    "def summarize_diagnostics(histories):\n",
    "    for i in range(len(histories)):\n",
    "        # plot loss\n",
    "        plt.subplot(2, 1, 1)\n",
    "        plt.title('Cross Entropy Loss')\n",
    "        plt.plot(histories[i].history['loss'], color='blue', label='train')\n",
    "        plt.plot(histories[i].history['val_loss'], color='orange', label='test')\n",
    "        \n",
    "        # plot accuracy\n",
    "        plt.subplot(2, 1, 2)\n",
    "        plt.title('Classification Accuracy')\n",
    "        plt.plot(histories[i].history['accuracy'], color='blue', label='train')\n",
    "        plt.plot(histories[i].history['val_accuracy'], color='orange', label='test')\n",
    "        \n",
    "    plt.show()\n",
    "    \n",
    "# Summarize Model Performance\n",
    "def summarize_performance(scores):\n",
    "    # Print ze summary\n",
    "    print('Accuracy: mean=%.3f std=%.3f, n=%d' % (mean(scores)*100, std(scores)*100, len(scores)))\n",
    "    # Box and Whisker Plots of Results\n",
    "    plt.boxplot(scores)\n",
    "    plt.show()\n",
    " \n",
    "# Run the test harness for evaluating a model\n",
    "def run_test_harness():\n",
    "    # load dataset\n",
    "    train_X, train_Y, test_X, test_Y = load_dataset()\n",
    "    # prepare pixel data\n",
    "    train_X, test_X = prep_pixels(train_X, test_X)\n",
    "    # evaluate model\n",
    "    scores, histories = evaluate_model(train_X, train_Y)\n",
    "    # learning curves\n",
    "    summarize_diagnostics(histories)\n",
    "    # summarize estimated performance\n",
    "    summarize_performance(scores)\n",
    " \n",
    "# Entrypoint, run the test harness!\n",
    "run_test_harness()"
   ]
  },
  {
   "cell_type": "markdown",
   "id": "52c0324f-e25b-4bdf-8ecb-91b02ed808cf",
   "metadata": {},
   "source": [
    "### Assorted and Random Notes\n",
    "\n",
    "- What is [k-fold Cross Validation?](https://machinelearningmastery.com/k-fold-cross-validation/) (This is a very good resource, worth investigating)"
   ]
  },
  {
   "cell_type": "code",
   "execution_count": null,
   "id": "3c2a5332-7698-44da-876b-203017bd90cf",
   "metadata": {},
   "outputs": [],
   "source": []
  }
 ],
 "metadata": {
  "kernelspec": {
   "display_name": "Python 3 (ipykernel)",
   "language": "python",
   "name": "python3"
  },
  "language_info": {
   "codemirror_mode": {
    "name": "ipython",
    "version": 3
   },
   "file_extension": ".py",
   "mimetype": "text/x-python",
   "name": "python",
   "nbconvert_exporter": "python",
   "pygments_lexer": "ipython3",
   "version": "3.9.1"
  }
 },
 "nbformat": 4,
 "nbformat_minor": 5
}
