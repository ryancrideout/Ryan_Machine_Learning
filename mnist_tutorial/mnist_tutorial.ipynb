{
 "cells": [
  {
   "cell_type": "markdown",
   "id": "29ae14f4-29c8-4c71-80c4-01a0411faae5",
   "metadata": {},
   "source": [
    "# MNIST Tutorial\n",
    "Here be the MNIST Tutorial! For now we'll just load up the data and maybe look at it.\n",
    "\n",
    "For now, we're looking at this [link.](https://www.digitalocean.com/community/tutorials/mnist-dataset-in-python)"
   ]
  },
  {
   "cell_type": "code",
   "execution_count": 4,
   "id": "a47eeca9-4e66-48f6-b9bc-b1627c1f738a",
   "metadata": {},
   "outputs": [
    {
     "name": "stdout",
     "output_type": "stream",
     "text": [
      "Downloading data from https://storage.googleapis.com/tensorflow/tf-keras-datasets/mnist.npz\n",
      "11490434/11490434 [==============================] - 3s 0us/step\n",
      "X_train: (60000, 28, 28)\n",
      "Y_train: (60000,)\n",
      "X_test:  (10000, 28, 28)\n",
      "Y_test:  (10000,)\n"
     ]
    }
   ],
   "source": [
    "from tensorflow.keras.datasets import mnist\n",
    "\n",
    "# LOAD THE DATA?!\n",
    "(train_X, train_y), (test_X, test_y) = mnist.load_data()\n",
    "\n",
    "print('X_train: ' + str(train_X.shape))\n",
    "print('Y_train: ' + str(train_y.shape))\n",
    "print('X_test:  '  + str(test_X.shape))\n",
    "print('Y_test:  '  + str(test_y.shape))"
   ]
  },
  {
   "cell_type": "markdown",
   "id": "df228be7-80ab-4707-8362-e3ab0515ed6f",
   "metadata": {},
   "source": [
    "And now, to actually do tutorial related stuff with it:"
   ]
  },
  {
   "cell_type": "code",
   "execution_count": null,
   "id": "088700e4-0676-4945-9bc1-737d47489e12",
   "metadata": {},
   "outputs": [],
   "source": []
  }
 ],
 "metadata": {
  "kernelspec": {
   "display_name": "Python 3 (ipykernel)",
   "language": "python",
   "name": "python3"
  },
  "language_info": {
   "codemirror_mode": {
    "name": "ipython",
    "version": 3
   },
   "file_extension": ".py",
   "mimetype": "text/x-python",
   "name": "python",
   "nbconvert_exporter": "python",
   "pygments_lexer": "ipython3",
   "version": "3.9.1"
  }
 },
 "nbformat": 4,
 "nbformat_minor": 5
}
