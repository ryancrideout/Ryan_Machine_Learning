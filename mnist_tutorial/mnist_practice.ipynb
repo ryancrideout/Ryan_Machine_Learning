{
 "cells": [
  {
   "cell_type": "markdown",
   "id": "343fdf04-ce6d-4478-9349-6886c3e1245e",
   "metadata": {},
   "source": [
    "# MNIST Practice\n",
    "\n",
    "This is just a notebook where I try to go through the steps of training a Machine Learning Model on the MNIST Dataset. This is NOT a tutorial.\n",
    "\n",
    "Steps:\n",
    "- Load the Data\n",
    "- Prepare & Normalize the Data\n",
    "- Defining a Neural Network Model\n",
    "- Evaluating the Model on how successful it was\n",
    "- Present Results"
   ]
  },
  {
   "cell_type": "markdown",
   "id": "ac1a54bf-60d7-421f-9aee-fc52d078a57c",
   "metadata": {},
   "source": [
    "### Load the Data, Kronk!"
   ]
  },
  {
   "cell_type": "code",
   "execution_count": null,
   "id": "5ae458ff-71a5-4e64-81ca-524391895050",
   "metadata": {},
   "outputs": [],
   "source": [
    "from tensorflow.keras.datasets import mnist\n",
    "\n",
    "# Note that \"X\" is the images, and \"Y\" is what the images actually are.\n",
    "(train_X, train_y), (test_X, test_y) = mnist.load_data()\n",
    "\n",
    "# I think the data is technially loaded now. That was... easy?"
   ]
  },
  {
   "cell_type": "markdown",
   "id": "43a1dc8e-7feb-4ca9-8980-e7ae2ec2299e",
   "metadata": {},
   "source": [
    "### Prepare the Data"
   ]
  },
  {
   "cell_type": "markdown",
   "id": "f5b3643c-6454-40c1-881d-999f3b93acb6",
   "metadata": {},
   "source": [
    "Okay for preparing the data we need to...\n",
    "- Add a color channel to the X data.\n",
    "- Normalize it.\n",
    "\n",
    "In that order."
   ]
  },
  {
   "cell_type": "code",
   "execution_count": 9,
   "id": "80f88d78-0670-46f2-b5bf-2b2f6beac4f0",
   "metadata": {},
   "outputs": [
    {
     "name": "stdout",
     "output_type": "stream",
     "text": [
      "[[  0   0   0   0   0   0   0   0   0   0   0   0   0   0   0   0   0   0\n",
      "    0   0   0   0   0   0   0   0   0   0]\n",
      " [  0   0   0   0   0   0   0   0   0   0   0   0   0   0   0   0   0   0\n",
      "    0   0   0   0   0   0   0   0   0   0]\n",
      " [  0   0   0   0   0   0   0   0   0   0   0   0   0   0   0   0   0   0\n",
      "    0   0   0   0   0   0   0   0   0   0]\n",
      " [  0   0   0   0   0   0   0   0   0   0   0   0   0   0   0   0   0   0\n",
      "    0   0   0   0   0   0   0   0   0   0]\n",
      " [  0   0   0   0   0   0   0   0   0   0   0   0   0   0   0   0   0   0\n",
      "    0   0   0   0   0   0   0   0   0   0]\n",
      " [  0   0   0   0   0   0   0   0   0   0   0   0   0   0   0   0   0   0\n",
      "  124 253 255  63   0   0   0   0   0   0]\n",
      " [  0   0   0   0   0   0   0   0   0   0   0   0   0   0   0   0   0  96\n",
      "  244 251 253  62   0   0   0   0   0   0]\n",
      " [  0   0   0   0   0   0   0   0   0   0   0   0   0   0   0   0   0 127\n",
      "  251 251 253  62   0   0   0   0   0   0]\n",
      " [  0   0   0   0   0   0   0   0   0   0   0   0   0   0   0   0  68 236\n",
      "  251 211  31   8   0   0   0   0   0   0]\n",
      " [  0   0   0   0   0   0   0   0   0   0   0   0   0   0   0  60 228 251\n",
      "  251  94   0   0   0   0   0   0   0   0]\n",
      " [  0   0   0   0   0   0   0   0   0   0   0   0   0   0   0 155 253 253\n",
      "  189   0   0   0   0   0   0   0   0   0]\n",
      " [  0   0   0   0   0   0   0   0   0   0   0   0   0   0  20 253 251 235\n",
      "   66   0   0   0   0   0   0   0   0   0]\n",
      " [  0   0   0   0   0   0   0   0   0   0   0   0   0  32 205 253 251 126\n",
      "    0   0   0   0   0   0   0   0   0   0]\n",
      " [  0   0   0   0   0   0   0   0   0   0   0   0   0 104 251 253 184  15\n",
      "    0   0   0   0   0   0   0   0   0   0]\n",
      " [  0   0   0   0   0   0   0   0   0   0   0   0  80 240 251 193  23   0\n",
      "    0   0   0   0   0   0   0   0   0   0]\n",
      " [  0   0   0   0   0   0   0   0   0   0   0  32 253 253 253 159   0   0\n",
      "    0   0   0   0   0   0   0   0   0   0]\n",
      " [  0   0   0   0   0   0   0   0   0   0   0 151 251 251 251  39   0   0\n",
      "    0   0   0   0   0   0   0   0   0   0]\n",
      " [  0   0   0   0   0   0   0   0   0   0  48 221 251 251 172   0   0   0\n",
      "    0   0   0   0   0   0   0   0   0   0]\n",
      " [  0   0   0   0   0   0   0   0   0   0 234 251 251 196  12   0   0   0\n",
      "    0   0   0   0   0   0   0   0   0   0]\n",
      " [  0   0   0   0   0   0   0   0   0   0 253 251 251  89   0   0   0   0\n",
      "    0   0   0   0   0   0   0   0   0   0]\n",
      " [  0   0   0   0   0   0   0   0   0 159 255 253 253  31   0   0   0   0\n",
      "    0   0   0   0   0   0   0   0   0   0]\n",
      " [  0   0   0   0   0   0   0   0  48 228 253 247 140   8   0   0   0   0\n",
      "    0   0   0   0   0   0   0   0   0   0]\n",
      " [  0   0   0   0   0   0   0   0  64 251 253 220   0   0   0   0   0   0\n",
      "    0   0   0   0   0   0   0   0   0   0]\n",
      " [  0   0   0   0   0   0   0   0  64 251 253 220   0   0   0   0   0   0\n",
      "    0   0   0   0   0   0   0   0   0   0]\n",
      " [  0   0   0   0   0   0   0   0  24 193 253 220   0   0   0   0   0   0\n",
      "    0   0   0   0   0   0   0   0   0   0]\n",
      " [  0   0   0   0   0   0   0   0   0   0   0   0   0   0   0   0   0   0\n",
      "    0   0   0   0   0   0   0   0   0   0]\n",
      " [  0   0   0   0   0   0   0   0   0   0   0   0   0   0   0   0   0   0\n",
      "    0   0   0   0   0   0   0   0   0   0]\n",
      " [  0   0   0   0   0   0   0   0   0   0   0   0   0   0   0   0   0   0\n",
      "    0   0   0   0   0   0   0   0   0   0]]\n"
     ]
    }
   ],
   "source": [
    "from tensorflow.keras.datasets import mnist\n",
    "from tensorflow.keras.utils import to_categorical\n",
    "\n",
    "# Data gets loaded.\n",
    "(train_X, train_Y), (test_X, test_Y) = mnist.load_data()\n",
    "\n",
    "# print(train_X.shape) # (60000, 28, 28)\n",
    "# print(train_X[3]) # A two-dimensional array of numbers with values from 0 - 255\n",
    "\n",
    "# Reshape dataset to have a single color channel. But the question is, why?\n",
    "train_X = train_X.reshape((train_X.shape[0], 28, 28, 1)) # train_X.shape[0] = 60000\n",
    "test_X = test_X.reshape((test_X.shape[0], 28, 28, 1))\n",
    "\n",
    "# print(train_X.shape) # (60000, 28, 28, 1)\n",
    "\n",
    "# print(train_Y.shape) # (60000,)\n",
    "# print(train_Y[3]) # 1\n",
    "# print(train_Y[4]) # 9\n",
    "# print(train_Y[5]) # 2\n",
    "\n",
    "# This is a way to categorize the data - these are the \"answers\" so to speak, so we want to keep track of them.\n",
    "train_Y = to_categorical(train_Y)\n",
    "test_Y = to_categorical(test_Y)\n",
    "\n",
    "# print(train_Y.shape) # (60000, 10)\n",
    "# print(train_Y[3]) # [0. 1. 0. 0. 0. 0. 0. 0. 0. 0.]\n",
    "# print(train_Y[4]) # [0. 0. 0. 0. 0. 0. 0. 0. 0. 1.]\n",
    "# print(train_Y[5]) # [0. 0. 1. 0. 0. 0. 0. 0. 0. 0.]"
   ]
  },
  {
   "cell_type": "markdown",
   "id": "df173706-0f8a-42c9-a1f5-06c120a4dd0f",
   "metadata": {},
   "source": [
    "### EVERYTHING Together"
   ]
  },
  {
   "cell_type": "code",
   "execution_count": null,
   "id": "43193f8f-75ab-4227-87a5-fc2c53689656",
   "metadata": {},
   "outputs": [],
   "source": [
    "from tensorflow.keras.datasets import mnist\n",
    "\n",
    "# Load the data, Kronk!\n",
    "(train_X, train_y), (test_X, test_y) = mnist.load_data()"
   ]
  },
  {
   "cell_type": "markdown",
   "id": "f794c841-e1d4-4a34-a047-21e3e9420cb4",
   "metadata": {},
   "source": [
    "### Random Notes"
   ]
  },
  {
   "cell_type": "code",
   "execution_count": null,
   "id": "a7532c26-51a4-4a82-9821-ab067cbf8257",
   "metadata": {},
   "outputs": [],
   "source": []
  }
 ],
 "metadata": {
  "kernelspec": {
   "display_name": "Python 3 (ipykernel)",
   "language": "python",
   "name": "python3"
  },
  "language_info": {
   "codemirror_mode": {
    "name": "ipython",
    "version": 3
   },
   "file_extension": ".py",
   "mimetype": "text/x-python",
   "name": "python",
   "nbconvert_exporter": "python",
   "pygments_lexer": "ipython3",
   "version": "3.9.1"
  }
 },
 "nbformat": 4,
 "nbformat_minor": 5
}
