{
 "cells": [
  {
   "cell_type": "markdown",
   "id": "343fdf04-ce6d-4478-9349-6886c3e1245e",
   "metadata": {},
   "source": [
    "# MNIST Practice\n",
    "\n",
    "This is just a notebook where I try to go through the steps of training a Machine Learning Model on the MNIST Dataset. This is NOT a tutorial.\n",
    "\n",
    "Note, that there is a [tutorial for this, and it is here.](https://machinelearningmastery.com/how-to-develop-a-convolutional-neural-network-from-scratch-for-mnist-handwritten-digit-classification/)\n",
    "\n",
    "Steps:\n",
    "- Load the Data\n",
    "- Prepare & Normalize the Data\n",
    "- Defining a Neural Network Model\n",
    "- Evaluating the Model on how successful it was\n",
    "- Present Results"
   ]
  },
  {
   "cell_type": "markdown",
   "id": "ac1a54bf-60d7-421f-9aee-fc52d078a57c",
   "metadata": {},
   "source": [
    "### Load the Data, Kronk!"
   ]
  },
  {
   "cell_type": "code",
   "execution_count": null,
   "id": "5ae458ff-71a5-4e64-81ca-524391895050",
   "metadata": {},
   "outputs": [],
   "source": [
    "from tensorflow.keras.datasets import mnist\n",
    "\n",
    "# Note that \"X\" is the images, and \"Y\" is what the images actually are.\n",
    "(train_X, train_y), (test_X, test_y) = mnist.load_data()\n",
    "\n",
    "# I think the data is technially loaded now. That was... easy?"
   ]
  },
  {
   "cell_type": "markdown",
   "id": "43a1dc8e-7feb-4ca9-8980-e7ae2ec2299e",
   "metadata": {},
   "source": [
    "### Prepare the Data"
   ]
  },
  {
   "cell_type": "markdown",
   "id": "f5b3643c-6454-40c1-881d-999f3b93acb6",
   "metadata": {},
   "source": [
    "Okay for preparing the data we need to...\n",
    "- Add a color channel to the X data.\n",
    "- Normalize it.\n",
    "\n",
    "In that order."
   ]
  },
  {
   "cell_type": "code",
   "execution_count": 3,
   "id": "80f88d78-0670-46f2-b5bf-2b2f6beac4f0",
   "metadata": {},
   "outputs": [],
   "source": [
    "from tensorflow.keras.datasets import mnist\n",
    "from tensorflow.keras.utils import to_categorical\n",
    "\n",
    "# Data gets loaded.\n",
    "(train_X, train_Y), (test_X, test_Y) = mnist.load_data()\n",
    "\n",
    "# print(train_X.shape) # (60000, 28, 28)\n",
    "# print(train_X[3]) # A two-dimensional array of numbers with values from 0 - 255\n",
    "\n",
    "# Reshape dataset to have a single color channel. But the question is, why?\n",
    "train_X = train_X.reshape((train_X.shape[0], 28, 28, 1)) # train_X.shape[0] = 60000\n",
    "test_X = test_X.reshape((test_X.shape[0], 28, 28, 1))\n",
    "\n",
    "# print(train_X.shape) # (60000, 28, 28, 1)\n",
    "\n",
    "# print(train_Y.shape) # (60000,)\n",
    "# print(train_Y[3]) # 1\n",
    "# print(train_Y[4]) # 9\n",
    "# print(train_Y[5]) # 2\n",
    "\n",
    "# This is a way to categorize the data - these are the \"answers\" so to speak, so we want to keep track of them.\n",
    "train_Y = to_categorical(train_Y)\n",
    "test_Y = to_categorical(test_Y)\n",
    "\n",
    "# print(train_Y.shape) # (60000, 10)\n",
    "# print(train_Y[3]) # [0. 1. 0. 0. 0. 0. 0. 0. 0. 0.]\n",
    "# print(train_Y[4]) # [0. 0. 0. 0. 0. 0. 0. 0. 0. 1.]\n",
    "# print(train_Y[5]) # [0. 0. 1. 0. 0. 0. 0. 0. 0. 0.]\n",
    "\n",
    "# Cast to a float 32 and ensure that we divide by 255.0\n",
    "train_X = train_X.astype('float32') / 255.0\n",
    "test_X = test_X.astype('float32') / 255.0"
   ]
  },
  {
   "cell_type": "markdown",
   "id": "2ed30f50-cb20-4bb6-9c9a-e54fc3b07014",
   "metadata": {},
   "source": [
    "### Defining the Neural Network Model"
   ]
  },
  {
   "cell_type": "code",
   "execution_count": null,
   "id": "14113208-32bc-432d-b7c4-99a08926cec5",
   "metadata": {},
   "outputs": [],
   "source": [
    "from tensorflow.keras.models import Sequential\n",
    "from tensorflow.keras.layers import Conv2D, MaxPooling2D, Flatten, Dense\n",
    "from tensorflow.keras.optimizers import SGD\n",
    "\n",
    "# This is the Sequential Model where we can add a bunch of layers. This tracks.\n",
    "model = Sequential()\n",
    "\n",
    "# # # # # # # # # # # # # # # # # # # # # # # # # # # # # # # # #\n",
    "# Note that this is all very specific to THIS exercise.\n",
    "# # # # # # # # # # # # # # # # # # # # # # # # # # # # # # # # #\n",
    "\n",
    "# Not sure what the Conv2D is about, will need to read up on it.\n",
    "model.add(Conv2D(32, (3, 3), activation='relu', kernel_initializer='he_uniform', input_shape=(28, 28, 1)))\n",
    "# This takes the 2x2 squares and makes them one square.\n",
    "model.add(MaxPooling2D((2, 2)))\n",
    "# Not sure what Flatten does.\n",
    "model.add(Flatten())\n",
    "# The \"Dense\" Layer with 100 nodes helps interpret the results. This will require trial and error, methinks.\n",
    "model.add(Dense(100, activation='relu', kernel_initializer='he_uniform'))\n",
    "# Need an output layer with 10 nodes given that there are 10 possible answers. Not sure what \"softmax\" actication means.\n",
    "model.add(Dense(10, activation='softmax'))\n",
    "\n",
    "# Set our learning rate and how fast we adjust said learning rate.\n",
    "opt = SGD(learning_rate=0.01, momentum=0.9)\n",
    "# Actually go forth and compile everything.\n",
    "model.compile(optimizer=opt, loss='categorical_crossentropy', metrics=['accuracy'])"
   ]
  },
  {
   "cell_type": "markdown",
   "id": "25e0b031-5e95-4c66-bef7-89f4f2d29036",
   "metadata": {},
   "source": [
    "### Evaluating the Neural Network Model"
   ]
  },
  {
   "cell_type": "code",
   "execution_count": null,
   "id": "706118fd-0fb4-48e3-a9f9-b74aba5c6d64",
   "metadata": {},
   "outputs": [],
   "source": [
    "scores = []\n",
    "histories = []\n",
    "\n",
    "# Set up K-Folds, first integer variable is number of k-folds.\n",
    "kfold = KFold(5, shuffle=True, random_state=1)\n",
    "\n",
    "for train_ix, test_ix in kfold.split(train_X):\n",
    "    # Wait so we define the model for EACH K-Fold? Bruh.\n",
    "    model = define_model() # This is all the stuff I did above."
   ]
  },
  {
   "cell_type": "markdown",
   "id": "df173706-0f8a-42c9-a1f5-06c120a4dd0f",
   "metadata": {},
   "source": [
    "### EVERYTHING Together"
   ]
  },
  {
   "cell_type": "code",
   "execution_count": null,
   "id": "43193f8f-75ab-4227-87a5-fc2c53689656",
   "metadata": {},
   "outputs": [],
   "source": [
    "from tensorflow.keras.datasets import mnist\n",
    "from tensorflow.keras.utils import to_categorical\n",
    "from tensorflow.keras.models import Sequential\n",
    "from tensorflow.keras.layers import Conv2D, MaxPooling2D, Flatten, Dense\n",
    "from tensorflow.keras.optimizers import SGD\n",
    "\n",
    "# Load the data, Kronk!\n",
    "(train_X, train_y), (test_X, test_y) = mnist.load_data()\n",
    "\n",
    "# Modify our X data\n",
    "train_X = train_X.reshape((train_X.shape[0], 28, 28, 1)) \n",
    "test_X = test_X.reshape((test_X.shape[0], 28, 28, 1))\n",
    "train_X = train_X.astype('float32') / 255.0\n",
    "test_X = test_X.astype('float32') / 255.0\n",
    "\n",
    "# Change the Y data\n",
    "train_Y = to_categorical(train_Y)\n",
    "test_Y = to_categorical(test_Y)\n",
    "\n",
    "# Model stuff - initialization\n",
    "model = Sequential()\n",
    "\n",
    "model.add(Conv2D(32, (3, 3), activation='relu', kernel_initializer='he_uniform', input_shape=(28, 28, 1)))\n",
    "model.add(MaxPooling2D((2, 2)))\n",
    "model.add(Flatten())\n",
    "model.add(Dense(100, activation='relu', kernel_initializer='he_uniform'))\n",
    "model.add(Dense(10, activation='softmax'))\n",
    "\n",
    "opt = SGD(learning_rate=0.01, momentum=0.9)\n",
    "model.compile(optimizer=opt, loss='categorical_crossentropy', metrics=['accuracy'])"
   ]
  },
  {
   "cell_type": "markdown",
   "id": "f794c841-e1d4-4a34-a047-21e3e9420cb4",
   "metadata": {},
   "source": [
    "### Random Notes"
   ]
  },
  {
   "cell_type": "code",
   "execution_count": null,
   "id": "a7532c26-51a4-4a82-9821-ab067cbf8257",
   "metadata": {},
   "outputs": [],
   "source": []
  }
 ],
 "metadata": {
  "kernelspec": {
   "display_name": "Python 3 (ipykernel)",
   "language": "python",
   "name": "python3"
  },
  "language_info": {
   "codemirror_mode": {
    "name": "ipython",
    "version": 3
   },
   "file_extension": ".py",
   "mimetype": "text/x-python",
   "name": "python",
   "nbconvert_exporter": "python",
   "pygments_lexer": "ipython3",
   "version": "3.9.1"
  }
 },
 "nbformat": 4,
 "nbformat_minor": 5
}
