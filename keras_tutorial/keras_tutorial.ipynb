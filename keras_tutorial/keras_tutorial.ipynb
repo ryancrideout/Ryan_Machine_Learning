{
 "cells": [
  {
   "cell_type": "markdown",
   "id": "d020bbfe-5afa-489a-980f-ce0b8bb423e1",
   "metadata": {},
   "source": [
    "# Keras Tutorial"
   ]
  },
  {
   "cell_type": "markdown",
   "id": "50eca411-e2e7-4276-92af-5b51b4590cd9",
   "metadata": {},
   "source": [
    "This is an exercise going through [this tutorial](https://machinelearningmastery.com/tutorial-first-neural-network-python-keras/), as I try to further my understanding.\n",
    "\n",
    "Here are the general steps of this tutorial:\n",
    "1. Load Data\n",
    "2. Define Keras Model\n",
    "3. Compile Keras Model\n",
    "4. Fit Keras Model\n",
    "5. Evaluate Keras Model\n",
    "6. Tie It All Together\n",
    "7. Make Predictions"
   ]
  },
  {
   "cell_type": "markdown",
   "id": "e17a1fba-0e8e-49c0-b6b1-a6fe6335011a",
   "metadata": {},
   "source": [
    "### Load Data"
   ]
  },
  {
   "cell_type": "code",
   "execution_count": 4,
   "id": "1d0bede1-7ea9-4e74-81e5-9dfb5beb1128",
   "metadata": {},
   "outputs": [],
   "source": [
    "from numpy import loadtxt\n",
    "from tensorflow.keras.models import Sequential\n",
    "from tensorflow.keras.layers import Dense\n",
    "\n",
    "# This loads the dataset.\n",
    "data = loadtxt(\"pima-indians-diabetes-data.csv\", delimiter=\",\")\n",
    "\n",
    "# Split the data into Input (X) and Output (Y) variables.\n",
    "X = data[:, 0:8]\n",
    "Y = data[:, 8]"
   ]
  },
  {
   "cell_type": "markdown",
   "id": "0aa841ad-4f21-4d5a-bfaa-8427d5586cb1",
   "metadata": {},
   "source": [
    "### Defining the Model"
   ]
  },
  {
   "cell_type": "markdown",
   "id": "3401f121-9bd2-43a6-84fd-cffca55f4307",
   "metadata": {},
   "source": [
    "Note while that this requires further investigation, but for how to know \"how many Dense models to add\", that comes from trial and error. \n",
    "\n",
    "More information [here.](https://machinelearningmastery.com/how-to-configure-the-number-of-layers-and-nodes-in-a-neural-network/)"
   ]
  },
  {
   "cell_type": "code",
   "execution_count": null,
   "id": "2590451c-8253-4fa8-8c5a-a1c72bf538b3",
   "metadata": {},
   "outputs": [],
   "source": [
    "# Define the model. A \"Sequential\" model means we have a model that we can add multiple layers to.\n",
    "model = Sequential()\n",
    "\n",
    "# Add the layers to the model. Note that this is \"trial and error\".\n",
    "model.add(Dense(12, input_shape=(8,), activation='relu'))\n",
    "model.add(Dense(8, activation='relu'))\n",
    "model.add(Dense(1, activation='sigmoid'))"
   ]
  },
  {
   "cell_type": "markdown",
   "id": "71160f9c-d3ab-41b6-a7a0-b630c4772146",
   "metadata": {},
   "source": [
    "### Compiling the Model"
   ]
  },
  {
   "cell_type": "code",
   "execution_count": null,
   "id": "f743453b-d532-443f-955a-5fd37b6fce4b",
   "metadata": {},
   "outputs": [],
   "source": []
  },
  {
   "cell_type": "markdown",
   "id": "a351895d-5549-40dc-a5fa-1e2e2b3ad372",
   "metadata": {},
   "source": [
    "### Tying it all together"
   ]
  },
  {
   "cell_type": "code",
   "execution_count": null,
   "id": "19c60ea7-dd34-4514-a432-676a191d04ed",
   "metadata": {},
   "outputs": [],
   "source": [
    "from numpy import loadtxt\n",
    "from tensorflow.keras.models import Sequential\n",
    "from tensorflow.keras.layers import Dense\n",
    "\n",
    "# This loads the dataset.\n",
    "data = loadtxt(\"pima-indians-diabetes-data.csv\", delimiter=\",\")\n",
    "\n",
    "# Split the data into Input (X) and Output (Y) variables.\n",
    "X = data[:, 0:8]\n",
    "Y = data[:, 8]\n",
    "\n",
    "# Define the model. A \"Sequential\" model means we have a model that we can add multiple layers to.\n",
    "model = Sequential()\n",
    "\n",
    "# Add the layers to the model. Note that this is \"trial and error\".\n",
    "model.add(Dense(12, input_shape=(8,), activation='relu'))\n",
    "model.add(Dense(8, activation='relu'))\n",
    "model.add(Dense(1, activation='sigmoid'))\n",
    "\n",
    "# Compile the Keras Model.\n",
    "model.compile(loss='binary_crossentropy', optimizer='adam', metrics=['accuracy'])\n",
    "\n",
    "# Fit the Keras Model on the Dataset.\n",
    "model.fit(X, y, epochs=150, batch_size=10)"
   ]
  }
 ],
 "metadata": {
  "kernelspec": {
   "display_name": "Python 3 (ipykernel)",
   "language": "python",
   "name": "python3"
  },
  "language_info": {
   "codemirror_mode": {
    "name": "ipython",
    "version": 3
   },
   "file_extension": ".py",
   "mimetype": "text/x-python",
   "name": "python",
   "nbconvert_exporter": "python",
   "pygments_lexer": "ipython3",
   "version": "3.10.1"
  }
 },
 "nbformat": 4,
 "nbformat_minor": 5
}
