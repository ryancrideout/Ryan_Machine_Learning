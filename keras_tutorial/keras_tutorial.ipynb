{
 "cells": [
  {
   "cell_type": "markdown",
   "id": "d020bbfe-5afa-489a-980f-ce0b8bb423e1",
   "metadata": {},
   "source": [
    "# Keras Tutorial"
   ]
  },
  {
   "cell_type": "markdown",
   "id": "50eca411-e2e7-4276-92af-5b51b4590cd9",
   "metadata": {},
   "source": [
    "This is an exercise going through [this tutorial](https://machinelearningmastery.com/tutorial-first-neural-network-python-keras/), as I try to further my understanding.\n",
    "\n",
    "Here are the general steps of this tutorial:\n",
    "1. Load Data\n",
    "2. Define Keras Model\n",
    "3. Compile Keras Model\n",
    "4. Fit Keras Model\n",
    "5. Evaluate Keras Model\n",
    "6. Tie It All Together\n",
    "7. Make Predictions"
   ]
  },
  {
   "cell_type": "markdown",
   "id": "e17a1fba-0e8e-49c0-b6b1-a6fe6335011a",
   "metadata": {},
   "source": [
    "### Load Data"
   ]
  },
  {
   "cell_type": "code",
   "execution_count": 4,
   "id": "1d0bede1-7ea9-4e74-81e5-9dfb5beb1128",
   "metadata": {},
   "outputs": [],
   "source": [
    "from numpy import loadtxt\n",
    "from tensorflow.keras.models import Sequential\n",
    "from tensorflow.keras.layers import Dense\n",
    "\n",
    "# This loads the dataset.\n",
    "data = loadtxt(\"pima-indians-diabetes-data.csv\", delimiter=\",\")\n",
    "\n",
    "# Split the data into Input (X) and Output (Y) variables.\n",
    "X = data[:, 0:8]\n",
    "Y = data[:, 8]"
   ]
  },
  {
   "cell_type": "markdown",
   "id": "0aa841ad-4f21-4d5a-bfaa-8427d5586cb1",
   "metadata": {},
   "source": [
    "### Defining the Model"
   ]
  },
  {
   "cell_type": "markdown",
   "id": "3401f121-9bd2-43a6-84fd-cffca55f4307",
   "metadata": {},
   "source": [
    "Note while that this requires further investigation, but for how to know \"how many Dense models to add\", that comes from trial and error. \n",
    "\n",
    "More information [here.](https://machinelearningmastery.com/how-to-configure-the-number-of-layers-and-nodes-in-a-neural-network/)"
   ]
  },
  {
   "cell_type": "code",
   "execution_count": null,
   "id": "2590451c-8253-4fa8-8c5a-a1c72bf538b3",
   "metadata": {},
   "outputs": [],
   "source": [
    "# Define the model. A \"Sequential\" model means we have a model that we can add multiple layers to.\n",
    "model = Sequential()\n",
    "\n",
    "# Add the layers to the model. Note that this is \"trial and error\".\n",
    "model.add(Dense(12, input_shape=(8,), activation='relu'))\n",
    "model.add(Dense(8, activation='relu'))\n",
    "model.add(Dense(1, activation='sigmoid'))"
   ]
  },
  {
   "cell_type": "markdown",
   "id": "71160f9c-d3ab-41b6-a7a0-b630c4772146",
   "metadata": {},
   "source": [
    "### Compiling the Model"
   ]
  },
  {
   "cell_type": "code",
   "execution_count": null,
   "id": "f743453b-d532-443f-955a-5fd37b6fce4b",
   "metadata": {},
   "outputs": [],
   "source": [
    "# This, again, is what is creating the model\n",
    "# Define the model. A \"Sequential\" model means we have a model that we can add multiple layers to.\n",
    "model = Sequential()\n",
    "\n",
    "# Add the layers to the model. Note that this is \"trial and error\".\n",
    "model.add(Dense(12, input_shape=(8,), activation='relu'))\n",
    "model.add(Dense(8, activation='relu'))\n",
    "model.add(Dense(1, activation='sigmoid'))\n",
    "# Remember, the above is just defining the model.\n",
    "\n",
    "# This is compiling it, or just putting it all together.\n",
    "model.compile(loss='binary_crossentropy', optimizer='adam', metrics=['accuracy'])"
   ]
  },
  {
   "cell_type": "markdown",
   "id": "16ce8f41-fec3-452e-94bb-f55708af2a68",
   "metadata": {},
   "source": [
    "### Fitting the Keras Model with the Data"
   ]
  },
  {
   "cell_type": "markdown",
   "id": "482c0855-3a30-4aac-8f46-5169001fe71d",
   "metadata": {},
   "source": [
    "Note that \"Fitting\" the data more or less means feeding the training data to the model. Note that this isn't the same as \"evaluating\" the data.\n",
    "\n",
    "Note that training occurs over epochs, and each epoch is split into batches.\n",
    "\n",
    "Anyways, this is all we really have to do:"
   ]
  },
  {
   "cell_type": "code",
   "execution_count": null,
   "id": "d8ae3928-47f7-48f5-9a76-c506eeb89a4e",
   "metadata": {},
   "outputs": [],
   "source": [
    "# Feed the X and Y (training data) into the model.\n",
    "model.fit(X, Y, epochs=150, batch_size=10)"
   ]
  },
  {
   "cell_type": "markdown",
   "id": "01b7704e-4d01-47db-b690-26d159d7c91f",
   "metadata": {},
   "source": [
    "### Evaluating the Keras Model"
   ]
  },
  {
   "cell_type": "markdown",
   "id": "7abc8456-4066-417e-be6d-af21d5fc79fc",
   "metadata": {},
   "source": [
    "All this is is trying to determine how accurate the Machine Learning model was."
   ]
  },
  {
   "cell_type": "code",
   "execution_count": null,
   "id": "3756eed3-aeaf-4d49-8571-81622af7d548",
   "metadata": {},
   "outputs": [],
   "source": [
    "# See how accurate the model, in the context of training and test data.\n",
    "_, accuracy = model.evaluate(X, y)\n",
    "print('Accuracy: %.2f' % (accuracy*100))"
   ]
  },
  {
   "cell_type": "markdown",
   "id": "a351895d-5549-40dc-a5fa-1e2e2b3ad372",
   "metadata": {},
   "source": [
    "### Tying it all together"
   ]
  },
  {
   "cell_type": "code",
   "execution_count": null,
   "id": "19c60ea7-dd34-4514-a432-676a191d04ed",
   "metadata": {},
   "outputs": [],
   "source": [
    "from numpy import loadtxt\n",
    "from tensorflow.keras.models import Sequential\n",
    "from tensorflow.keras.layers import Dense\n",
    "\n",
    "# This loads the dataset.\n",
    "data = loadtxt(\"pima-indians-diabetes-data.csv\", delimiter=\",\")\n",
    "\n",
    "# Split the data into Input (X) and Output (Y) variables.\n",
    "X = data[:, 0:8]\n",
    "Y = data[:, 8]\n",
    "\n",
    "# Define the model. A \"Sequential\" model means we have a model that we can add multiple layers to.\n",
    "model = Sequential()\n",
    "\n",
    "# Add the layers to the model. Note that this is \"trial and error\".\n",
    "model.add(Dense(12, input_shape=(8,), activation='relu'))\n",
    "model.add(Dense(8, activation='relu'))\n",
    "model.add(Dense(1, activation='sigmoid'))\n",
    "\n",
    "# Compile the Keras Model.\n",
    "model.compile(loss='binary_crossentropy', optimizer='adam', metrics=['accuracy'])\n",
    "\n",
    "# Fit the Keras Model on the Dataset.\n",
    "model.fit(X, y, epochs=150, batch_size=10)"
   ]
  },
  {
   "cell_type": "markdown",
   "id": "25e16df2-01f9-4b3e-9e02-d4ce712c522e",
   "metadata": {},
   "source": [
    "### Things to read up on:"
   ]
  },
  {
   "cell_type": "markdown",
   "id": "b9baca94-b464-48e5-ae41-2b7c1e1d3ac5",
   "metadata": {},
   "source": [
    "- Keras Dense Models\n",
    "- Binary Crossentropy\n",
    "- Keras Model Compilers\n",
    "    - \"Adam\"\n",
    "- Machine Learning \"Epoch\" (Training)\n",
    "- Machine Learning \"Batch\" (Training)\n",
    "    - Note for Batches and Epochs, there is a [tutorial here.](https://machinelearningmastery.com/difference-between-a-batch-and-an-epoch/)"
   ]
  },
  {
   "cell_type": "code",
   "execution_count": null,
   "id": "94e70bb5-2863-44c1-a027-fe592e4cff1e",
   "metadata": {},
   "outputs": [],
   "source": []
  }
 ],
 "metadata": {
  "kernelspec": {
   "display_name": "Python 3 (ipykernel)",
   "language": "python",
   "name": "python3"
  },
  "language_info": {
   "codemirror_mode": {
    "name": "ipython",
    "version": 3
   },
   "file_extension": ".py",
   "mimetype": "text/x-python",
   "name": "python",
   "nbconvert_exporter": "python",
   "pygments_lexer": "ipython3",
   "version": "3.9.1"
  }
 },
 "nbformat": 4,
 "nbformat_minor": 5
}
