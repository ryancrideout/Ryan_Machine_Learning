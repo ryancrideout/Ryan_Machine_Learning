{
 "cells": [
  {
   "cell_type": "markdown",
   "id": "deed3a7a-32bd-4e89-8bc3-5e29f1848bdc",
   "metadata": {},
   "source": [
    "# Fashion MNIST Playground"
   ]
  },
  {
   "cell_type": "markdown",
   "id": "c0520716-5a7d-468f-ab41-803ed7450ec1",
   "metadata": {},
   "source": [
    "This is me trying to figure out how to get the Fashion MNIST dataset to work so here we go!"
   ]
  },
  {
   "cell_type": "markdown",
   "id": "12b06d9c-1244-4d99-87e0-638180860f30",
   "metadata": {},
   "source": [
    "### The Real Deal"
   ]
  },
  {
   "cell_type": "code",
   "execution_count": 12,
   "id": "6a267222-ac58-4240-a3d0-da028f250d1f",
   "metadata": {},
   "outputs": [
    {
     "name": "stdout",
     "output_type": "stream",
     "text": [
      "Here are the scores.\n",
      "[0.9077500104904175, 0.9102500081062317, 0.9139166474342346, 0.9125000238418579, 0.9104999899864197]\n",
      "Here are the histories.\n",
      "[<keras.callbacks.History object at 0x000002BD42B6D940>, <keras.callbacks.History object at 0x000002BD423B25E0>, <keras.callbacks.History object at 0x000002BD263C2730>, <keras.callbacks.History object at 0x000002BD25E02070>, <keras.callbacks.History object at 0x000002BD25EDBD00>]\n"
     ]
    }
   ],
   "source": [
    "from sklearn.model_selection import KFold\n",
    "from tensorflow.keras.models import Sequential\n",
    "from tensorflow.keras.layers import Conv2D, MaxPooling2D, Flatten, Dense\n",
    "from tensorflow.keras.datasets import fashion_mnist\n",
    "from tensorflow.keras.utils import to_categorical\n",
    "from tensorflow.keras.optimizers import SGD\n",
    "from matplotlib import pyplot as plt\n",
    "\n",
    "# Load the Data, Kronk!\n",
    "(train_x, train_y), (test_x, test_y) = fashion_mnist.load_data()\n",
    "\n",
    "# Reshape dataset to have a single color channel. Note \"train_x.shape[0]\" is 60000.\n",
    "train_x = train_x.reshape((train_x.shape[0], 28, 28, 1))\n",
    "test_x = test_x.reshape((test_x.shape[0], 28, 28, 1))\n",
    "\n",
    "# This is a way to categorize the data - these are the \"answers\" so to speak, so we want to keep track of them.\n",
    "train_y = to_categorical(train_y)\n",
    "test_y = to_categorical(test_y)\n",
    "\n",
    "# Okay... what data value do we try to normalize? We honestly just feed it the \"train_x\" and \"train_x\"\n",
    "\n",
    "# convert from Integers to Floats\n",
    "train_normalized = train_x.astype('float32')\n",
    "test_normalized = test_x.astype('float32')\n",
    "\n",
    "# Normalize to range [0, 1]. I guess this works because it's looking at the entire matrix and then just dividing by 255.0\n",
    "train_x = train_x.astype('float32') / 255.0\n",
    "test_x = test_x.astype('float32') / 255.0\n",
    "\n",
    "# Okay so now that we have all of the data, now we define a model? Is that the next step?\n",
    "# Well yes kind of, but we also need to set up the K-Folds.\n",
    "scores = []\n",
    "histories = []\n",
    "\n",
    "# Prepare K-Fold Cross Validation\n",
    "n_folds = 5\n",
    "kfold = KFold(n_folds, shuffle=True, random_state=1)\n",
    "\n",
    "# Oh boy... this will be the big one.\n",
    "for train_x_fold, test_x_fold in kfold.split(train_x):\n",
    "    model = Sequential()\n",
    "    model.add(Conv2D(32, (3, 3), activation='relu', kernel_initializer='he_uniform', input_shape=(28, 28, 1)))\n",
    "    model.add(MaxPooling2D((2, 2)))\n",
    "    model.add(Flatten())\n",
    "    model.add(Dense(100, activation='relu', kernel_initializer='he_uniform'))\n",
    "    model.add(Dense(10, activation='softmax'))\n",
    "    # We add the layers here. Need to add the shape first.\n",
    "    # Also note - play around with this!\n",
    "    \n",
    "    # And now we compile the model.\n",
    "    optimizer = SGD(learning_rate=0.01, momentum=0.9)\n",
    "    model.compile(optimizer=optimizer, loss='categorical_crossentropy', metrics=['accuracy'])\n",
    "    \n",
    "    # Select rows for train and test... as I understand this, this is just cycling through the data selecting the test and training data.\n",
    "    train_X, train_Y, test_X, test_Y = train_x[train_x_fold], train_y[train_x_fold], train_x[test_x_fold], train_y[test_x_fold]\n",
    "    \n",
    "    # Fit model... and by fitting the model I think this is just checking to see how accurate it ends up being. Kind of? It's where the model begins to learn.\n",
    "    history = model.fit(train_X, train_Y, epochs=10, batch_size=32, validation_data=(test_X, test_Y), verbose=0)\n",
    "    \n",
    "    # Evaluate model to see how accurate it is.\n",
    "    _, accuracy = model.evaluate(test_X, test_Y, verbose=0)\n",
    "    # print('> %.3f' % (accuracy * 100.0))\n",
    "    \n",
    "    # Store the scores and accuracy\n",
    "    scores.append(accuracy)\n",
    "    histories.append(history)\n",
    "    \n",
    "print(\"Here are the scores.\")\n",
    "print(scores)\n",
    "print(\"Here are the histories.\")\n",
    "print(histories)"
   ]
  },
  {
   "cell_type": "markdown",
   "id": "0de39e83-8dc3-4ad8-a236-9be54363b2b9",
   "metadata": {},
   "source": [
    "### Notes"
   ]
  },
  {
   "cell_type": "markdown",
   "id": "8293daff-7335-49c2-a2c6-c059b7bf090e",
   "metadata": {},
   "source": [
    "Dataset looks like this:\n",
    "```\n",
    "X_train: (60000, 28, 28)\n",
    "Y_train: (60000,)\n",
    "X_test:  (10000, 28, 28)\n",
    "Y_test:  (10000,)\n",
    "```\n",
    "\n",
    "So instead of the numbers, it's just articles of clothing. So like... it might just be the same thing?"
   ]
  },
  {
   "cell_type": "code",
   "execution_count": null,
   "id": "3e975774-8d23-4c6f-b812-7c4d23a5731b",
   "metadata": {},
   "outputs": [],
   "source": []
  }
 ],
 "metadata": {
  "kernelspec": {
   "display_name": "Python 3 (ipykernel)",
   "language": "python",
   "name": "python3"
  },
  "language_info": {
   "codemirror_mode": {
    "name": "ipython",
    "version": 3
   },
   "file_extension": ".py",
   "mimetype": "text/x-python",
   "name": "python",
   "nbconvert_exporter": "python",
   "pygments_lexer": "ipython3",
   "version": "3.9.1"
  }
 },
 "nbformat": 4,
 "nbformat_minor": 5
}
