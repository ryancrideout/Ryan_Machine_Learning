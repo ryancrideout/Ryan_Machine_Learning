{
 "cells": [
  {
   "cell_type": "markdown",
   "id": "deed3a7a-32bd-4e89-8bc3-5e29f1848bdc",
   "metadata": {},
   "source": [
    "# Fashion MNIST Playground"
   ]
  },
  {
   "cell_type": "markdown",
   "id": "c0520716-5a7d-468f-ab41-803ed7450ec1",
   "metadata": {},
   "source": [
    "This is me trying to figure out how to get the Fashion MNIST dataset to work so here we go!"
   ]
  },
  {
   "cell_type": "markdown",
   "id": "12b06d9c-1244-4d99-87e0-638180860f30",
   "metadata": {},
   "source": [
    "### The Real Deal"
   ]
  },
  {
   "cell_type": "code",
   "execution_count": null,
   "id": "6a267222-ac58-4240-a3d0-da028f250d1f",
   "metadata": {},
   "outputs": [],
   "source": [
    "from tensorflow.keras.datasets import fashion_mnist\n",
    "from matplotlib import pyplot as plt\n",
    "\n",
    "# Load the Data, Kronk!\n",
    "(train_x, train_y), (test_x, test_y) = fashion_mnist.load_data()\n",
    "\n",
    "# Todo - Add an extra channel to the X data (for whether or not it's correct?)\n",
    "# Todo - Normalize the X data."
   ]
  },
  {
   "cell_type": "markdown",
   "id": "0de39e83-8dc3-4ad8-a236-9be54363b2b9",
   "metadata": {},
   "source": [
    "### Notes"
   ]
  },
  {
   "cell_type": "markdown",
   "id": "8293daff-7335-49c2-a2c6-c059b7bf090e",
   "metadata": {},
   "source": [
    "Dataset looks like this:\n",
    "```\n",
    "X_train: (60000, 28, 28)\n",
    "Y_train: (60000,)\n",
    "X_test:  (10000, 28, 28)\n",
    "Y_test:  (10000,)\n",
    "```\n",
    "\n",
    "So instead of the numbers, it's just articles of clothing. So like... it might just be the same thing?"
   ]
  },
  {
   "cell_type": "code",
   "execution_count": null,
   "id": "3e975774-8d23-4c6f-b812-7c4d23a5731b",
   "metadata": {},
   "outputs": [],
   "source": []
  }
 ],
 "metadata": {
  "kernelspec": {
   "display_name": "Python 3 (ipykernel)",
   "language": "python",
   "name": "python3"
  },
  "language_info": {
   "codemirror_mode": {
    "name": "ipython",
    "version": 3
   },
   "file_extension": ".py",
   "mimetype": "text/x-python",
   "name": "python",
   "nbconvert_exporter": "python",
   "pygments_lexer": "ipython3",
   "version": "3.9.1"
  }
 },
 "nbformat": 4,
 "nbformat_minor": 5
}
