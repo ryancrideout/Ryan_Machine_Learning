{
 "cells": [
  {
   "cell_type": "markdown",
   "id": "02f5f2cd-e8f7-4795-837f-b229318e4340",
   "metadata": {},
   "source": [
    "#  Keras Dense Layers"
   ]
  },
  {
   "cell_type": "markdown",
   "id": "09527a7a-cea7-4abf-ae6b-a74d512653df",
   "metadata": {},
   "source": [
    "What are Keras Dense Layers? \n",
    "\n",
    "From their website -\n",
    "\n",
    "[\"Just your regular densely-connected NN layer.\"](https://keras.io/api/layers/core_layers/dense/)\n",
    "\n",
    "Which I guess then begs the question - what is a densely-connected Neural Network layer?\n",
    "\n",
    "Side note: For more information on how Keras manages it's dense layers, [here is the documentation.](https://keras.io/api/layers/core_layers/dense/)"
   ]
  },
  {
   "cell_type": "markdown",
   "id": "4a8df4b3-9f90-4dc4-a2fa-0e6db69eb19f",
   "metadata": {},
   "source": [
    "### (Densely Connected) Neural Network Layers"
   ]
  },
  {
   "cell_type": "markdown",
   "id": "0804aa5d-a6b6-4904-9089-8f2bac13a3f3",
   "metadata": {},
   "source": [
    "Right off the bat, a [dense layer is deeply connected layer from its preceding layer which works for changing the dimension of the output by performing matrix vector multiplication.](https://analyticsindiamag.com/a-complete-understanding-of-dense-layers-in-neural-networks/) In layman's terms, this is a layer in the neural network that can transform one layer into another one - it sort of acts like a filter if my understanding is correct.\n",
    "\n",
    "Note that it helps a lot if you view the layers as matricies (which, really, I think they are) and then they get up to all sorts of matrix multiplication antics."
   ]
  },
  {
   "cell_type": "code",
   "execution_count": null,
   "id": "d89aa6f7-92fd-4a0f-9dd8-3243c08a33e6",
   "metadata": {},
   "outputs": [],
   "source": []
  }
 ],
 "metadata": {
  "kernelspec": {
   "display_name": "Python 3 (ipykernel)",
   "language": "python",
   "name": "python3"
  },
  "language_info": {
   "codemirror_mode": {
    "name": "ipython",
    "version": 3
   },
   "file_extension": ".py",
   "mimetype": "text/x-python",
   "name": "python",
   "nbconvert_exporter": "python",
   "pygments_lexer": "ipython3",
   "version": "3.9.1"
  }
 },
 "nbformat": 4,
 "nbformat_minor": 5
}
