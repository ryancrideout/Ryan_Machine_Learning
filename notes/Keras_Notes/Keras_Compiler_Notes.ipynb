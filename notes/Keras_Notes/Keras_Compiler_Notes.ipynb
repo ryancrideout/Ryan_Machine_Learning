{
 "cells": [
  {
   "cell_type": "markdown",
   "id": "51e08159-5386-4576-9147-5965040e0ef6",
   "metadata": {},
   "source": [
    "# Keras Compiler Notes"
   ]
  },
  {
   "cell_type": "markdown",
   "id": "17ed250a-b9e7-4fc4-899d-a479a94a3c83",
   "metadata": {},
   "source": [
    "Note that Keras compilers just go ahead and compile the model, which I think is pretty straightforward.\n",
    "\n",
    "Where the fun happens is with all of the different optimizers you can use.\n",
    "\n",
    "You can find a list of optimizers [here](https://www.tutorialspoint.com/keras/keras_model_compilation.htm)."
   ]
  },
  {
   "cell_type": "markdown",
   "id": "ce95752b-ad3a-46a2-9c0b-c7f39ed518e7",
   "metadata": {},
   "source": [
    "### Adam Optimizer"
   ]
  },
  {
   "cell_type": "markdown",
   "id": "cfa55b13-c122-4100-aa43-a2edf7bdde12",
   "metadata": {},
   "source": [
    "[Here is the documentation for the Adam Optimizer.](https://keras.io/api/optimizers/adam/)\n",
    "\n",
    "For further reading on what Adam actually is and why it's worth using, you [can read more about it here.](https://machinelearningmastery.com/adam-optimization-algorithm-for-deep-learning/)\n",
    "\n",
    "In short though, it just seems to be a good and fast compiler that's just worth using. Note that this is a very surface level analysis and not something I went deep on."
   ]
  },
  {
   "cell_type": "markdown",
   "id": "503569af-7b89-40ae-a4f5-212acc7bcd58",
   "metadata": {},
   "source": [
    "### Further Notes:"
   ]
  },
  {
   "cell_type": "markdown",
   "id": "b23f0321-98c0-471b-90d9-396d2b91ce04",
   "metadata": {},
   "source": [
    "- [There is a comprehensive Keras tutorial over here.](https://www.tutorialspoint.com/keras/index.htm)"
   ]
  },
  {
   "cell_type": "code",
   "execution_count": null,
   "id": "deac697c-5763-48db-be6d-d465f8ab69d6",
   "metadata": {},
   "outputs": [],
   "source": []
  }
 ],
 "metadata": {
  "kernelspec": {
   "display_name": "Python 3 (ipykernel)",
   "language": "python",
   "name": "python3"
  },
  "language_info": {
   "codemirror_mode": {
    "name": "ipython",
    "version": 3
   },
   "file_extension": ".py",
   "mimetype": "text/x-python",
   "name": "python",
   "nbconvert_exporter": "python",
   "pygments_lexer": "ipython3",
   "version": "3.9.1"
  }
 },
 "nbformat": 4,
 "nbformat_minor": 5
}
