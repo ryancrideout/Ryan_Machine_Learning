{
 "cells": [
  {
   "cell_type": "markdown",
   "id": "b321aa82-b4f2-421a-a64b-4d75b40a2774",
   "metadata": {},
   "source": [
    "# Rectified Linear Activation Function (ReLU)"
   ]
  },
  {
   "cell_type": "markdown",
   "id": "c31e8d11-25d5-4965-9c21-a4a0b5340302",
   "metadata": {},
   "source": [
    "Very, _very_ simply put, a Rectified Linear Unit Function is a function that returns 0 if given any negative input, and returns any positive input that is given to it. Written in another way:"
   ]
  },
  {
   "cell_type": "code",
   "execution_count": 1,
   "id": "eb610072-b158-4a9e-8399-4b7b6e12e724",
   "metadata": {},
   "outputs": [],
   "source": [
    "# This is the same as:\n",
    "# f(x) = max(0.0, x)\n",
    "def rectified_linear_unit(x):\n",
    "    return max(0.0, x)"
   ]
  },
  {
   "cell_type": "markdown",
   "id": "72cad4f8-3fb4-4e85-8f5e-bef5ae3df572",
   "metadata": {},
   "source": [
    "Kaggle has a [great plot for showing what this looks like.](https://www.kaggle.com/code/dansbecker/rectified-linear-units-relu-in-deep-learning/notebook)"
   ]
  },
  {
   "cell_type": "markdown",
   "id": "1d3a6bcf-f00c-45db-b266-802c54f5fa5a",
   "metadata": {},
   "source": [
    "### ReLU and Machine Learning"
   ]
  },
  {
   "cell_type": "markdown",
   "id": "50e7f2e4-4358-4dd6-ac81-6b804f7485f3",
   "metadata": {},
   "source": [
    "ReLU, in the context of machine learning, is the [default activation function for many types of neural networks because a model that uses it is easier to train and often achieves better performance.](https://machinelearningmastery.com/rectified-linear-activation-function-for-deep-learning-neural-networks/)\n",
    "\n",
    "Should also be worth noting [that this site has a much deeper explanation of ReLU and related concepts.](https://machinelearningmastery.com/rectified-linear-activation-function-for-deep-learning-neural-networks/)"
   ]
  },
  {
   "cell_type": "code",
   "execution_count": null,
   "id": "1545b067-e75d-42dd-b7fb-5ab817e3a144",
   "metadata": {},
   "outputs": [],
   "source": []
  }
 ],
 "metadata": {
  "kernelspec": {
   "display_name": "Python 3 (ipykernel)",
   "language": "python",
   "name": "python3"
  },
  "language_info": {
   "codemirror_mode": {
    "name": "ipython",
    "version": 3
   },
   "file_extension": ".py",
   "mimetype": "text/x-python",
   "name": "python",
   "nbconvert_exporter": "python",
   "pygments_lexer": "ipython3",
   "version": "3.9.1"
  }
 },
 "nbformat": 4,
 "nbformat_minor": 5
}
