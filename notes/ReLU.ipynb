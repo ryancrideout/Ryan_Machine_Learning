{
 "cells": [
  {
   "cell_type": "markdown",
   "id": "b321aa82-b4f2-421a-a64b-4d75b40a2774",
   "metadata": {},
   "source": [
    "# Rectified Linear Activation Function (ReLU)"
   ]
  },
  {
   "cell_type": "code",
   "execution_count": null,
   "id": "ef59a8ca-918e-469e-84e5-e5e3ee28bcb6",
   "metadata": {},
   "outputs": [],
   "source": []
  }
 ],
 "metadata": {
  "kernelspec": {
   "display_name": "Python 3 (ipykernel)",
   "language": "python",
   "name": "python3"
  },
  "language_info": {
   "codemirror_mode": {
    "name": "ipython",
    "version": 3
   },
   "file_extension": ".py",
   "mimetype": "text/x-python",
   "name": "python",
   "nbconvert_exporter": "python",
   "pygments_lexer": "ipython3",
   "version": "3.9.1"
  }
 },
 "nbformat": 4,
 "nbformat_minor": 5
}
