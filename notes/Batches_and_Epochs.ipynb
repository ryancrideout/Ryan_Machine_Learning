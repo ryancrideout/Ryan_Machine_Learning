{
 "cells": [
  {
   "cell_type": "markdown",
   "id": "196bf59c-c147-4231-af30-0910508b27da",
   "metadata": {},
   "source": [
    "# Batches and Epochs"
   ]
  },
  {
   "cell_type": "markdown",
   "id": "7644e287-b70c-4b2b-bea9-bca084b4f58c",
   "metadata": {},
   "source": [
    "In machinelearning, we have batches and epochs, but we should ask ourselves what they even are.\n",
    "\n",
    "Before we go too far though, [here's a resource to find out more about batches and epochs](https://machinelearningmastery.com/difference-between-a-batch-and-an-epoch/)"
   ]
  },
  {
   "cell_type": "markdown",
   "id": "65c63a47-3f7e-4db3-9da2-5b1d6402c4ff",
   "metadata": {},
   "source": [
    "### Surface Level Explanations"
   ]
  },
  {
   "cell_type": "markdown",
   "id": "fe0a0b06-f28f-4501-9934-bf840740f97e",
   "metadata": {},
   "source": [
    "- **Batch**: [A batch in machine learning refers to the number of training examples used in an iteration.](https://radiopaedia.org/articles/batch-size-machine-learning?lang=us)\n",
    "\n",
    "- **Epoch**: [An Epoch is the number of passes of the ENTIRE training dataset the machine learning algorithm has completed. Note that datasets are typically grouped into batches.](https://stats.stackexchange.com/questions/153531/what-is-batch-size-in-neural-network)\n",
    "\n",
    "- **Iteration**: [An iteration indicates the number of times a machine learning algorithm's parameters are updated.](https://radiopaedia.org/articles/iteration-machine-learning?lang=us)\n",
    "\n",
    "- **Sample**: A sample is a single row of data, or in the case of the previously defined Batch, it'd be a single piece of training data."
   ]
  },
  {
   "cell_type": "markdown",
   "id": "8e80ad33-21d8-45f4-a571-e9eedc885e60",
   "metadata": {},
   "source": [
    "### Additional context"
   ]
  },
  {
   "cell_type": "markdown",
   "id": "c29a329f-7f8e-4f56-8e54-0c03281d434c",
   "metadata": {},
   "source": [
    "So in other words, think of a batch as a for-loop iterating over one or more samples and making predictions. Once we've passed through one loop of the batch, the predictions are compared to the expected output variables and an error is calculated. So the model is \"evaluated\" after one batch, but we \"evaluate\" the model several times - one for each batch.\n",
    "\n",
    "Note that there are typically three options for a batch size -\n",
    "1) **Batch Mode**: This is when the batch size is equal to the total dataset thus making the iteration and epoch values equivalent. Remember, an epoch is a pass through of the entire dataset.\n",
    "2) **Mini-Batch Mode**: The case when the batch size is greater than one but also less than the total dataset size. Usually, a nuber that can be divided into the total dataset size.\n",
    "3) **Stochastic Mode**: This is when the batch size is one. Therefore the gradient and neural network parameters are updated after each sample.\n",
    "\n",
    "For Epochs, note that it's definitely possible to have more than one Epoch. That is, you can pass through the entire dataset more than once.\n",
    "\n",
    "[The number of epochs is traditionally large, often hundreds or thousands, allowing the learning algorithm to run until the error from the model has been sufficiently minimized. You may see examples of the number of epochs in the literature and in tutorials set to 10, 100, 500, 1000, and larger.](https://machinelearningmastery.com/difference-between-a-batch-and-an-epoch/)"
   ]
  },
  {
   "cell_type": "markdown",
   "id": "ad607917-f6db-4156-a7ff-9a8de75a710b",
   "metadata": {},
   "source": [
    "### Additional Links"
   ]
  },
  {
   "cell_type": "markdown",
   "id": "639f8d2d-8d2e-4839-8d82-3ee8b494969b",
   "metadata": {},
   "source": [
    "- [There are some really good explanations on this Stats Stack Exchange page.](https://stats.stackexchange.com/questions/153531/what-is-batch-size-in-neural-network)\n",
    "- [A further explanation of epochs and batches, also explains some edge cases.](https://machinelearningmastery.com/difference-between-a-batch-and-an-epoch/)"
   ]
  },
  {
   "cell_type": "code",
   "execution_count": null,
   "id": "66d57deb-825d-48b6-8c85-0391082f5ae5",
   "metadata": {},
   "outputs": [],
   "source": []
  }
 ],
 "metadata": {
  "kernelspec": {
   "display_name": "Python 3 (ipykernel)",
   "language": "python",
   "name": "python3"
  },
  "language_info": {
   "codemirror_mode": {
    "name": "ipython",
    "version": 3
   },
   "file_extension": ".py",
   "mimetype": "text/x-python",
   "name": "python",
   "nbconvert_exporter": "python",
   "pygments_lexer": "ipython3",
   "version": "3.9.1"
  }
 },
 "nbformat": 4,
 "nbformat_minor": 5
}
