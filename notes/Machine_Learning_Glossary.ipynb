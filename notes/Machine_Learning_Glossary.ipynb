{
 "cells": [
  {
   "cell_type": "markdown",
   "id": "e2fc152e-2218-4be1-b3fc-b58bacfdc5d6",
   "metadata": {},
   "source": [
    "# Machine Learning Glossary"
   ]
  },
  {
   "cell_type": "markdown",
   "id": "c6fbcdc5-54a5-4069-8854-f0e692372565",
   "metadata": {},
   "source": [
    "Here is a useful glossary of machine learning terms. A lot of these definitions are lifted [from this site.](https://developers.google.com/machine-learning/glossary#overfitting)"
   ]
  },
  {
   "cell_type": "markdown",
   "id": "e8829b6d-a579-4bf1-9779-b039eaa38f78",
   "metadata": {},
   "source": [
    "### Overfitting\n",
    "\n",
    "Overfitting is when you create a model that matches the training data so closely that the model fails to make correct predictions on new data."
   ]
  },
  {
   "cell_type": "markdown",
   "id": "43e3da60-34a8-4cee-929b-a0039c0ffc7c",
   "metadata": {},
   "source": [
    "### Underfitting\n",
    "\n",
    "Underfitting is when you produce a model with poor predictive ability because the model hasn't captured the complexity of the training data. Many problems can cause underfitting, including:\n",
    "- Training on the wrong set of features.\n",
    "- Training for too few epochs or at too low a learning rate.\n",
    "- Training with too high a regularization rate.\n",
    "- Providing too few hidden layers in a deep neural network."
   ]
  },
  {
   "cell_type": "code",
   "execution_count": null,
   "id": "a0de06b7-e2c7-48ae-9c2c-200797d1eda4",
   "metadata": {},
   "outputs": [],
   "source": []
  }
 ],
 "metadata": {
  "kernelspec": {
   "display_name": "Python 3 (ipykernel)",
   "language": "python",
   "name": "python3"
  },
  "language_info": {
   "codemirror_mode": {
    "name": "ipython",
    "version": 3
   },
   "file_extension": ".py",
   "mimetype": "text/x-python",
   "name": "python",
   "nbconvert_exporter": "python",
   "pygments_lexer": "ipython3",
   "version": "3.9.1"
  }
 },
 "nbformat": 4,
 "nbformat_minor": 5
}
