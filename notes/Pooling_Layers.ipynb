{
 "cells": [
  {
   "cell_type": "markdown",
   "id": "9194bb71-2b5b-44c6-b3e9-8e8b72a3f5d7",
   "metadata": {},
   "source": [
    "# Pooling Layers (For Convolutional Neural Networks)"
   ]
  },
  {
   "cell_type": "markdown",
   "id": "65dc585e-d1e8-46fe-bb2d-235ab2573a59",
   "metadata": {},
   "source": [
    "What is a pooling layer in the context of machine learning?\n",
    "\n",
    "In simplified terms, pooling layers take the outputs of convolutional layers and reduces the size of them while still preserving information.\n",
    "\n",
    "For a much better explanation of what I'm talking about, consider the images from [here](https://www.kaggle.com/questions-and-answers/59502) and [here.](https://towardsdatascience.com/intuitively-understanding-convolutions-for-deep-learning-1f6f42faee1)\n",
    "\n",
    "I strongly, **strongly** recommend checking out the links at the bottom - pooling layers are much easier to explain with a visual reference."
   ]
  },
  {
   "cell_type": "markdown",
   "id": "f9f48e03-644e-476e-b9aa-eaf6313d4782",
   "metadata": {},
   "source": [
    "### Why Pooling Layers?"
   ]
  },
  {
   "cell_type": "markdown",
   "id": "2f371032-4cdb-497f-bf60-e305b248cf60",
   "metadata": {},
   "source": [
    "[Convolutional layers prove very effective, and stacking convolutional layers in deep models allows layers close to the input to learn low-level features (e.g. lines) and layers deeper in the model to learn high-order or more abstract features, like shapes or specific objects.](https://machinelearningmastery.com/pooling-layers-for-convolutional-neural-networks/)\n",
    "\n",
    "[A limitation of the feature map output of convolutional layers is that they record the precise position of features in the input. This means that small movements in the position of the feature in the input image will result in a different feature map. This can happen with re-cropping, rotation, shifting, and other minor changes to the input image.](https://machinelearningmastery.com/pooling-layers-for-convolutional-neural-networks/)\n",
    "\n",
    "[A common approach to addressing this problem from signal processing is called down sampling. This is where a lower resolution version of an input signal is created that still contains the large or important structural elements, without the fine detail that may not be as useful to the task.](https://machinelearningmastery.com/pooling-layers-for-convolutional-neural-networks/)\n",
    "\n",
    "The down sampling (as I understand it), is what the pooling is."
   ]
  },
  {
   "cell_type": "markdown",
   "id": "129b5ee5-1657-4839-b868-42f8aac5d4dd",
   "metadata": {},
   "source": [
    "### Further Notes"
   ]
  },
  {
   "cell_type": "markdown",
   "id": "d6ab95bf-94f3-49d9-bc45-29fce0e872c4",
   "metadata": {},
   "source": [
    "There are several kinds of pooling that exist (and that are covered in the links below), such as average pooling and max pooling. There's more to pooling than what is covered in this brief tutorial."
   ]
  },
  {
   "cell_type": "markdown",
   "id": "3a45d7ee-7f58-4a5d-a9a7-247bdce1e8f1",
   "metadata": {},
   "source": [
    "### Additional Resources"
   ]
  },
  {
   "cell_type": "markdown",
   "id": "801cad02-22d4-4fea-83c8-0568e728cd70",
   "metadata": {},
   "source": [
    "- [Machine Learning Mastery's Pooling Layer Tutorial](https://machinelearningmastery.com/pooling-layers-for-convolutional-neural-networks/)\n",
    "- [Pooling Layer Tutorial answered by Kaggle](https://www.kaggle.com/questions-and-answers/59502)"
   ]
  },
  {
   "cell_type": "code",
   "execution_count": null,
   "id": "0c91b45b-ce2f-4a7a-b73f-0362ebb8d91f",
   "metadata": {},
   "outputs": [],
   "source": []
  }
 ],
 "metadata": {
  "kernelspec": {
   "display_name": "Python 3 (ipykernel)",
   "language": "python",
   "name": "python3"
  },
  "language_info": {
   "codemirror_mode": {
    "name": "ipython",
    "version": 3
   },
   "file_extension": ".py",
   "mimetype": "text/x-python",
   "name": "python",
   "nbconvert_exporter": "python",
   "pygments_lexer": "ipython3",
   "version": "3.9.1"
  }
 },
 "nbformat": 4,
 "nbformat_minor": 5
}
