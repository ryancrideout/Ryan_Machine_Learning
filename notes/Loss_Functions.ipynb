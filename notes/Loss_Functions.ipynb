{
 "cells": [
  {
   "cell_type": "markdown",
   "id": "6281f10c-9cb7-4d81-b013-7dff2ddc0347",
   "metadata": {},
   "source": [
    "# Loss Functions (and how they relate to Machine Learning)"
   ]
  },
  {
   "cell_type": "markdown",
   "id": "01847d65-fb52-4786-9fc8-04ebb2520e62",
   "metadata": {},
   "source": [
    "Very simply put, a Loss Function is a method of evaluating how well a machine learning algorithm models a dataset. That is, it's a way of evaluating how accurate the predictions of a machine learning model are.\n",
    "\n",
    "For an actual example of a Loss Function, check out this [datarobot website.](https://www.datarobot.com/blog/introduction-to-loss-functions/)\n",
    "\n",
    "Note that there are many different examples of Loss Functions - an example of a simple Loss Function could look like `abs(y_predicted - y)`. The link above does have an example of a Loss Function for further reading."
   ]
  },
  {
   "cell_type": "markdown",
   "id": "48993188-299a-4cc1-a015-6cdc907e06f9",
   "metadata": {},
   "source": [
    "### Loss Function Links"
   ]
  },
  {
   "cell_type": "markdown",
   "id": "315289d8-b89a-402f-856f-c3ca8a1cce37",
   "metadata": {},
   "source": [
    "While I think the above [link](https://www.datarobot.com/blog/introduction-to-loss-functions) has the best example of a Loss Function, here are some other links:\n",
    "- [Towards Data Science](https://towardsdatascience.com/common-loss-functions-in-machine-learning-46af0ffc4d23)\n",
    "- [Analytics Vidhya](https://www.analyticsvidhya.com/blog/2019/08/detailed-guide-7-loss-functions-machine-learning-python-code/)"
   ]
  },
  {
   "cell_type": "code",
   "execution_count": null,
   "id": "40e8600c-5462-4648-9687-84b5eb05adae",
   "metadata": {},
   "outputs": [],
   "source": []
  }
 ],
 "metadata": {
  "kernelspec": {
   "display_name": "Python 3 (ipykernel)",
   "language": "python",
   "name": "python3"
  },
  "language_info": {
   "codemirror_mode": {
    "name": "ipython",
    "version": 3
   },
   "file_extension": ".py",
   "mimetype": "text/x-python",
   "name": "python",
   "nbconvert_exporter": "python",
   "pygments_lexer": "ipython3",
   "version": "3.9.1"
  }
 },
 "nbformat": 4,
 "nbformat_minor": 5
}
