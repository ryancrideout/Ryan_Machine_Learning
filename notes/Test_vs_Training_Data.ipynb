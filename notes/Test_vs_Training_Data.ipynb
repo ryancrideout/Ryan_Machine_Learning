{
 "cells": [
  {
   "cell_type": "markdown",
   "id": "002d24c3-f34d-467a-9bec-69b04304ca01",
   "metadata": {},
   "source": [
    "# Test Data vs Training Data"
   ]
  },
  {
   "cell_type": "markdown",
   "id": "1cfd1997-a515-4a97-879e-96a1cdaa7eeb",
   "metadata": {},
   "source": [
    "So with machine learning, there will very often (if not always) be conversation about Test Data and Training Data. So, what's the difference between the two of them?\n",
    "\n",
    "In short, _training_ data is what is used to _train_ a machine learning model, and _test_ data is used to see how well a model was trained.\n",
    "\n",
    "**Training Data**\n",
    "As previously mentioned, this is the data we feed into a machine learning model to train it. Ideally, with good training data, we hope to create an accurate model. Training data is a subset of your entire dataset used to teach a machine learning model to recognize patterns or to perform some sort of criteria.\n",
    "\n",
    "**Test Data**\n",
    "After we've built a machine learning model using the previously mentioned training data, we need to test the model - and this is where testing data comes in.\n",
    "\n",
    "Testing data has two main criteria:\n",
    "- It should represent the entire dataset.\n",
    "- It should be large enough to generate meaningful predictions.\n",
    "\n",
    "Test data is important because it is the final, real-world check to make sure that the machine learning model was trained effectively.\n",
    "\n",
    "For more information about Testing and Training data, [you can go here.](https://www.obviously.ai/post/the-difference-between-training-data-vs-test-data-in-machine-learning)\n"
   ]
  },
  {
   "cell_type": "code",
   "execution_count": null,
   "id": "1e3652d1-3e3d-43ff-bbf5-63542c310452",
   "metadata": {},
   "outputs": [],
   "source": []
  }
 ],
 "metadata": {
  "kernelspec": {
   "display_name": "Python 3 (ipykernel)",
   "language": "python",
   "name": "python3"
  },
  "language_info": {
   "codemirror_mode": {
    "name": "ipython",
    "version": 3
   },
   "file_extension": ".py",
   "mimetype": "text/x-python",
   "name": "python",
   "nbconvert_exporter": "python",
   "pygments_lexer": "ipython3",
   "version": "3.9.1"
  }
 },
 "nbformat": 4,
 "nbformat_minor": 5
}
