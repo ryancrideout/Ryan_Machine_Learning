{
 "cells": [
  {
   "cell_type": "markdown",
   "id": "60fbc2b5-6f65-4adc-b191-50caa60c9dc2",
   "metadata": {},
   "source": [
    "# Convolutional Layers"
   ]
  },
  {
   "cell_type": "markdown",
   "id": "45d29d7d-084d-4661-8420-3cf749bd967c",
   "metadata": {},
   "source": [
    "What are convolutional layers and how do they relate to Machine Learning?\n",
    "\n",
    "According to [databricks.com](https://www.databricks.com/glossary/convolutional-layer), a convolutional neural network (CNN) is a deep learning tool that is used to recognize patterns present in images. The can also be used for spatial data analysis, computer vision, natural language process, signal processing and more.\n",
    "\n",
    "To start, we should ask ourselves what a _convolution_ is."
   ]
  },
  {
   "cell_type": "markdown",
   "id": "ac56be88-e0fc-46f2-853c-c2e603e050a0",
   "metadata": {},
   "source": [
    "### What is a convolution?"
   ]
  },
  {
   "cell_type": "markdown",
   "id": "5eef117c-a95a-42b4-bbc3-dbe68a23e115",
   "metadata": {},
   "source": [
    "The short answer is that a convolution is more or less a function that takes information and transforms it into something else. So for example, if we had an image and then applied a blur filter to it, the application of the blur filter would be the convolution as it's the process of taking a regular image and turning it into a blurred one.\n",
    "\n",
    "In other words, [A convolution is the simple application of a filter to an input that results in an activation.](https://machinelearningmastery.com/pooling-layers-for-convolutional-neural-networks/) It's worth noting that convolution is used in the context of image analysis for machine learning."
   ]
  },
  {
   "cell_type": "markdown",
   "id": "5162efc6-85e3-486f-9ab3-8a935e1da774",
   "metadata": {},
   "source": [
    "### Convolutional Neural Networks (CNNs)"
   ]
  },
  {
   "cell_type": "markdown",
   "id": "6829b5b2-314b-48bf-ba62-350ef6d655d6",
   "metadata": {},
   "source": [
    "The convolutional neural network, or CNN for short, is a specialized type of neural network model designed for working with two-dimensional image data, although they can be used with one-dimensional and three-dimensional data.\n",
    "\n",
    "In the context of a convolutional neural network, a convolution is a linear operation that involves the multiplication of a set of weights with the input, much like a traditional neural network. Given that the technique was designed for two-dimensional input, the multiplication is performed between an array of input data and a two-dimensional array of weights, called a filter or a kernel.\n",
    "\n",
    "The filter is smaller than the input data and the type of multiplication applied between a filter-sized patch of the input and the filter is a dot product. A dot product is the element-wise multiplication between the filter-sized patch of the input and filter, which is then summed, always resulting in a single value. Because it results in a single value, the operation is often referred to as the “scalar product“. (Note this is from Linear Algebra)\n",
    "\n",
    "To put this into context, pixel values have a \"brightness\" value from anywhere from 0 to 255. 0 would be pure white, and 255 would be pure black. So if you took an image, and looked at the brightness values of all of the pixels, they would all be in the range of 0 to 255. You could then divide all of the values by 255 to \"normalize\" the data so that all of the values are between 0 and 1. This would be an example of convolution, it's taking data from the image (brightness) and simplifying it in such a way that makes it easier for the computer to work with. \n",
    "\n",
    "In summary, we have a _input_, such as an image of pixel values, and we have a _filter_, which is a set of weights, and the filter is systematically applied to the input data to create a _feature map_.\n",
    "\n",
    "Key takeaways:\n",
    "- Convolutional Neural Networks (CNNs) are used mostly for image analysis\n",
    "- The output of a convolution is smaller than the input of data that is fed into it; CNNs want to simplify the data so it's easier to find patterns.\n",
    "\n",
    "Note that most of this information was [shamelessly ripped from this site.](https://machinelearningmastery.com/convolutional-layers-for-deep-learning-neural-networks/) It is really, REALLY worth checking out the site as it gives a better explanation than I can here.\n",
    "\n",
    "Note that [this site](https://towardsdatascience.com/intuitively-understanding-convolutions-for-deep-learning-1f6f42faee1) also has worthwhile explanations."
   ]
  },
  {
   "cell_type": "code",
   "execution_count": null,
   "id": "b0709b4e-0808-4a45-81b2-c5619a396211",
   "metadata": {},
   "outputs": [],
   "source": []
  }
 ],
 "metadata": {
  "kernelspec": {
   "display_name": "Python 3 (ipykernel)",
   "language": "python",
   "name": "python3"
  },
  "language_info": {
   "codemirror_mode": {
    "name": "ipython",
    "version": 3
   },
   "file_extension": ".py",
   "mimetype": "text/x-python",
   "name": "python",
   "nbconvert_exporter": "python",
   "pygments_lexer": "ipython3",
   "version": "3.9.1"
  }
 },
 "nbformat": 4,
 "nbformat_minor": 5
}
